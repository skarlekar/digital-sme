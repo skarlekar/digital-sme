{
 "cells": [
  {
   "cell_type": "code",
   "execution_count": 1,
   "metadata": {},
   "outputs": [],
   "source": [
    "from langchain.text_splitter import CharacterTextSplitter\n",
    "from langchain.embeddings.openai import OpenAIEmbeddings\n",
    "from langchain.vectorstores import FAISS\n",
    "from langchain.llms import OpenAI\n",
    "from langchain.chains.question_answering import load_qa_chain\n",
    "from langchain.document_loaders import DirectoryLoader"
   ]
  },
  {
   "cell_type": "code",
   "execution_count": 2,
   "metadata": {},
   "outputs": [],
   "source": [
    "loader = DirectoryLoader(\"./docs/\", glob=\"**/*.pdf\")"
   ]
  },
  {
   "cell_type": "code",
   "execution_count": 3,
   "metadata": {},
   "outputs": [],
   "source": [
    "documents = loader.load()"
   ]
  },
  {
   "cell_type": "code",
   "execution_count": 4,
   "metadata": {},
   "outputs": [],
   "source": [
    "text_splitter = CharacterTextSplitter(\n",
    "    separator=\"\\n\", chunk_size=1000, chunk_overlap=200, length_function=len\n",
    ")"
   ]
  },
  {
   "cell_type": "code",
   "execution_count": 5,
   "metadata": {},
   "outputs": [
    {
     "name": "stderr",
     "output_type": "stream",
     "text": [
      "Created a chunk of size 1838, which is longer than the specified 1000\n",
      "Created a chunk of size 1195, which is longer than the specified 1000\n",
      "Created a chunk of size 1094, which is longer than the specified 1000\n",
      "Created a chunk of size 1204, which is longer than the specified 1000\n",
      "Created a chunk of size 1579, which is longer than the specified 1000\n",
      "Created a chunk of size 1284, which is longer than the specified 1000\n",
      "Created a chunk of size 1083, which is longer than the specified 1000\n",
      "Created a chunk of size 1296, which is longer than the specified 1000\n",
      "Created a chunk of size 1905, which is longer than the specified 1000\n",
      "Created a chunk of size 2596, which is longer than the specified 1000\n",
      "Created a chunk of size 1153, which is longer than the specified 1000\n",
      "Created a chunk of size 1209, which is longer than the specified 1000\n",
      "Created a chunk of size 1288, which is longer than the specified 1000\n",
      "Created a chunk of size 1355, which is longer than the specified 1000\n",
      "Created a chunk of size 1038, which is longer than the specified 1000\n",
      "Created a chunk of size 1249, which is longer than the specified 1000\n",
      "Created a chunk of size 1788, which is longer than the specified 1000\n",
      "Created a chunk of size 1399, which is longer than the specified 1000\n",
      "Created a chunk of size 1824, which is longer than the specified 1000\n",
      "Created a chunk of size 1027, which is longer than the specified 1000\n",
      "Created a chunk of size 1446, which is longer than the specified 1000\n",
      "Created a chunk of size 1081, which is longer than the specified 1000\n",
      "Created a chunk of size 1070, which is longer than the specified 1000\n",
      "Created a chunk of size 1998, which is longer than the specified 1000\n"
     ]
    }
   ],
   "source": [
    "texts = text_splitter.split_documents(documents)"
   ]
  },
  {
   "cell_type": "code",
   "execution_count": 6,
   "metadata": {},
   "outputs": [
    {
     "name": "stdout",
     "output_type": "stream",
     "text": [
      "999\n"
     ]
    }
   ],
   "source": [
    "print(len(texts))"
   ]
  },
  {
   "cell_type": "code",
   "execution_count": 7,
   "metadata": {},
   "outputs": [],
   "source": [
    "embeddings = OpenAIEmbeddings()"
   ]
  },
  {
   "cell_type": "code",
   "execution_count": 8,
   "metadata": {},
   "outputs": [],
   "source": [
    "knowledge_base = FAISS.from_documents(texts, embeddings)"
   ]
  },
  {
   "cell_type": "code",
   "execution_count": 9,
   "metadata": {},
   "outputs": [],
   "source": [
    "knowledge_base.save_local(\".\", \"mf-ug-index\")"
   ]
  },
  {
   "cell_type": "code",
   "execution_count": 10,
   "metadata": {},
   "outputs": [],
   "source": [
    "embeddings2 = OpenAIEmbeddings()"
   ]
  },
  {
   "cell_type": "code",
   "execution_count": 11,
   "metadata": {},
   "outputs": [],
   "source": [
    "knowledge = FAISS.load_local(\".\", embeddings2, \"mf-ug-index\")"
   ]
  },
  {
   "cell_type": "code",
   "execution_count": 12,
   "metadata": {},
   "outputs": [],
   "source": [
    "user_question = (\n",
    "    \"What is ACheck, when is it used, what are the requirements for using ACheck?\"\n",
    ")"
   ]
  },
  {
   "cell_type": "code",
   "execution_count": 13,
   "metadata": {},
   "outputs": [],
   "source": [
    "resultset = knowledge.similarity_search(user_question)"
   ]
  },
  {
   "cell_type": "code",
   "execution_count": 14,
   "metadata": {},
   "outputs": [
    {
     "name": "stdout",
     "output_type": "stream",
     "text": [
      "4\n"
     ]
    }
   ],
   "source": [
    "print(len(resultset))"
   ]
  },
  {
   "cell_type": "code",
   "execution_count": 15,
   "metadata": {},
   "outputs": [
    {
     "name": "stdout",
     "output_type": "stream",
     "text": [
      "page_content='When do you use the ACheck application?\\nAs soon as you receive an application request and the necessary tax identification numbers and/or social security numbers, enter the information into ACheck.\\nIf you have not yet identified all parties at this stage, you must enter all Key Principals, Principals, and Guarantors of the Borrower into ACheck as soon as you identify them.\\nIf more than 90 days pass between the initial ACheck and Commitment Date, you must repeat an ACheck.\\nHow do you view ACheck results?\\nThe ACheck application will provide either a “Continue Processing” or “Do Not Process” electronic response instantaneously.\\n“Continue Processing” Response\\nYou must receive a “Continue Processing” response in order to proceed with the application.\\nThis does not mean that the Borrower, Key Principal, Principal, Guarantor, or Principal is approved; you are still required to complete full Mortgage Loan credit underwriting.\\n“Do Not Process” Response' metadata={'source': 'docs/Part I Chapter 3 - Public - 2023-05-15.pdf'}\n",
      "page_content='© 2023 Fannie Mae. Trademarks of Fannie Mae.\\nEffective: 05/15/2023\\n35 of 48\\nGlossary\\nA\\nACheck\\nLender due diligence performed for the Borrower, Key Principal, and Principal using the ACheck application.\\nSynonyms • Applicant Experience Check\\nAdministering Agent\\nThird-party compliance monitoring company.\\nAffiliate' metadata={'source': 'docs/Part III Chapter 7 - Public - 2023-05-15.pdf'}\n",
      "page_content='Have you obtained a Form 6460 that confirms the Borrower’s good faith?\\nSection 307\\nApplicant Experience Check\\nRequirements\\nFor both initial applications, Supplemental Mortgage Loans, and any Transfer/Assumption, you must perform an ACheckTM and receive a \"Continue Processing\" response for\\nthe Borrower,\\neach Key Principal of the Borrower,\\neach Principal of the Borrower,\\n© 2023 Fannie Mae. Trademarks of Fannie Mae.\\nEffective: 05/15/2023\\n11 of 27\\neach Guarantor, and\\nany person who owns or controls an entity Key Principal.\\nOperating Procedures\\nWhere can you find ACheck?\\nYou can find the ACheck application at https://multifamily.fanniemae.com/applications-technology/acheck.\\nWhen do you use the ACheck application?\\nAs soon as you receive an application request and the necessary tax identification numbers and/or social security numbers, enter the information into ACheck.' metadata={'source': 'docs/Part I Chapter 3 - Public - 2023-05-15.pdf'}\n",
      "page_content='© 2023 Fannie Mae. Trademarks of Fannie Mae.\\nEffective: 05/15/2023\\n19 of 27\\nGlossary\\nA\\nACheck\\nAffiliate\\nLender due diligence performed for the Borrower, Key Principal, and Principal using the ACheck application.\\nSynonyms • Applicant Experience Check' metadata={'source': 'docs/Part I Chapter 3 - Public - 2023-05-15.pdf'}\n"
     ]
    }
   ],
   "source": [
    "for x in resultset:\n",
    "    print(x)"
   ]
  },
  {
   "cell_type": "code",
   "execution_count": 16,
   "metadata": {},
   "outputs": [],
   "source": [
    "llm = OpenAI(temperature=0)"
   ]
  },
  {
   "cell_type": "code",
   "execution_count": 17,
   "metadata": {},
   "outputs": [],
   "source": [
    "chain = load_qa_chain(llm, chain_type=\"stuff\")"
   ]
  },
  {
   "cell_type": "code",
   "execution_count": 18,
   "metadata": {},
   "outputs": [
    {
     "name": "stdout",
     "output_type": "stream",
     "text": [
      " ACheck is a lender due diligence application performed for the Borrower, Key Principal, and Principal. It is used as soon as you receive an application request and the necessary tax identification numbers and/or social security numbers. The requirements for using ACheck are that you must receive a \"Continue Processing\" response for the Borrower, each Key Principal of the Borrower, each Principal of the Borrower, each Guarantor, and any person who owns or controls an entity Key Principal.\n"
     ]
    }
   ],
   "source": [
    "response = chain.run(input_documents=resultset, question=user_question)\n",
    "print(response)"
   ]
  }
 ],
 "metadata": {
  "kernelspec": {
   "display_name": "Python 3 (ipykernel)",
   "language": "python",
   "name": "python3"
  },
  "language_info": {
   "codemirror_mode": {
    "name": "ipython",
    "version": 3
   },
   "file_extension": ".py",
   "mimetype": "text/x-python",
   "name": "python",
   "nbconvert_exporter": "python",
   "pygments_lexer": "ipython3",
   "version": "3.11.3"
  }
 },
 "nbformat": 4,
 "nbformat_minor": 2
}
