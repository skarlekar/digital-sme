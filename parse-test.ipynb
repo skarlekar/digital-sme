{
 "cells": [
  {
   "cell_type": "code",
   "execution_count": 1,
   "metadata": {},
   "outputs": [],
   "source": [
    "import parse"
   ]
  },
  {
   "cell_type": "code",
   "execution_count": 7,
   "metadata": {},
   "outputs": [],
   "source": [
    "def parse_response(response):\n",
    "    response_sections = (response.split('SOURCES:'))\n",
    "    response = response_sections[0]\n",
    "    sources_section = response_sections[1]\n",
    "    sources = sources_section.split(',')\n",
    "    return response, sources"
   ]
  },
  {
   "cell_type": "code",
   "execution_count": 32,
   "metadata": {},
   "outputs": [],
   "source": [
    "doc_base = 'https://skarlekar.github.io/digital-sme-docs/'"
   ]
  },
  {
   "cell_type": "code",
   "execution_count": 33,
   "metadata": {},
   "outputs": [
    {
     "name": "stdout",
     "output_type": "stream",
     "text": [
      "ACheck is a lender due diligence application used for the Borrower, Key Principal, and Principal. It should be used as soon as an application request and the necessary tax identification numbers and/or social security numbers are received. If more than 90 days pass between the initial ACheck and Commitment Date, an ACheck must be repeated. The ACheck application will provide either a “Continue Processing” or “Do Not Process” electronic response instantaneously. A \"Continue Processing\" response is required to proceed with the application. For ACheck, you need to have the necessary tax identification numbers and/or social security numbers of all parties involved. SOURCES: docs/Part I Chapter 3 - Public - 2023-05-15.pdf, docs/Part III Chapter 7 - Public - 2023-05-15.pdf\n"
     ]
    }
   ],
   "source": [
    "response = 'ACheck is a lender due diligence application used for the Borrower, Key Principal, and Principal. It should be used as soon as an application request and the necessary tax identification numbers and/or social security numbers are received. If more than 90 days pass between the initial ACheck and Commitment Date, an ACheck must be repeated. The ACheck application will provide either a “Continue Processing” or “Do Not Process” electronic response instantaneously. A \"Continue Processing\" response is required to proceed with the application. For ACheck, you need to have the necessary tax identification numbers and/or social security numbers of all parties involved. SOURCES: docs/Part I Chapter 3 - Public - 2023-05-15.pdf, docs/Part III Chapter 7 - Public - 2023-05-15.pdf'\n",
    "print (response)"
   ]
  },
  {
   "cell_type": "code",
   "execution_count": 34,
   "metadata": {},
   "outputs": [],
   "source": [
    "#response = 'The documents do not provide information on who Srini Karlekar is. SOURCES:'"
   ]
  },
  {
   "cell_type": "code",
   "execution_count": 35,
   "metadata": {},
   "outputs": [],
   "source": [
    "parsed_response, sources = parse_response(response)  "
   ]
  },
  {
   "cell_type": "code",
   "execution_count": 36,
   "metadata": {},
   "outputs": [],
   "source": [
    "import urllib.parse"
   ]
  },
  {
   "cell_type": "code",
   "execution_count": 37,
   "metadata": {},
   "outputs": [
    {
     "name": "stdout",
     "output_type": "stream",
     "text": [
      "ACheck is a lender due diligence application used for the Borrower, Key Principal, and Principal. It should be used as soon as an application request and the necessary tax identification numbers and/or social security numbers are received. If more than 90 days pass between the initial ACheck and Commitment Date, an ACheck must be repeated. The ACheck application will provide either a “Continue Processing” or “Do Not Process” electronic response instantaneously. A \"Continue Processing\" response is required to proceed with the application. For ACheck, you need to have the necessary tax identification numbers and/or social security numbers of all parties involved. \n",
      "**SOURCES:**\n",
      "- [docs/Part I Chapter 3 - Public - 2023-05-15.pdf](https://skarlekar.github.io/digital-sme-docs/docs/Part%20I%20Chapter%203%20-%20Public%20-%202023-05-15.pdf) \n",
      "- [docs/Part III Chapter 7 - Public - 2023-05-15.pdf](https://skarlekar.github.io/digital-sme-docs/docs/Part%20III%20Chapter%207%20-%20Public%20-%202023-05-15.pdf) \n",
      "\n"
     ]
    }
   ],
   "source": [
    "print(parsed_response) \n",
    "print('**SOURCES:**')\n",
    "s = ''\n",
    "for i in sources:\n",
    "    url = \"{}{}\".format(doc_base, urllib.parse.quote(i.strip()))\n",
    "    s += \"- [{}]({}) \\n\".format(i.strip(), url)\n",
    "    #s += '- [' + i.strip() + '](' + doc_base + i.strip() + ')' + '\\n'\n",
    "    #s += \"- \" + i + \"\\n\"\n",
    "print(s)"
   ]
  }
 ],
 "metadata": {
  "kernelspec": {
   "display_name": "openai",
   "language": "python",
   "name": "python3"
  },
  "language_info": {
   "codemirror_mode": {
    "name": "ipython",
    "version": 3
   },
   "file_extension": ".py",
   "mimetype": "text/x-python",
   "name": "python",
   "nbconvert_exporter": "python",
   "pygments_lexer": "ipython3",
   "version": "3.11.4"
  },
  "orig_nbformat": 4
 },
 "nbformat": 4,
 "nbformat_minor": 2
}
