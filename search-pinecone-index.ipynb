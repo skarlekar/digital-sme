{
 "cells": [
  {
   "cell_type": "code",
   "execution_count": 1,
   "metadata": {},
   "outputs": [
    {
     "name": "stderr",
     "output_type": "stream",
     "text": [
      "/Users/skarlekar/anaconda3/envs/openai/lib/python3.11/site-packages/pinecone/index.py:4: TqdmExperimentalWarning: Using `tqdm.autonotebook.tqdm` in notebook mode. Use `tqdm.tqdm` instead to force console mode (e.g. in jupyter console)\n",
      "  from tqdm.autonotebook import tqdm\n"
     ]
    }
   ],
   "source": [
    "import pinecone\n",
    "from tqdm.autonotebook import tqdm\n",
    "import os\n",
    "import sys\n",
    "from langchain.text_splitter import CharacterTextSplitter\n",
    "from langchain.embeddings.openai import OpenAIEmbeddings\n",
    "from langchain.vectorstores import FAISS\n",
    "from langchain.llms import OpenAI\n",
    "from langchain.chat_models import ChatOpenAI\n",
    "from langchain.chains.question_answering import load_qa_chain\n",
    "from langchain.chains.qa_with_sources import load_qa_with_sources_chain\n",
    "from langchain.document_loaders import DirectoryLoader\n",
    "from langchain.vectorstores import Pinecone"
   ]
  },
  {
   "cell_type": "code",
   "execution_count": 2,
   "metadata": {},
   "outputs": [],
   "source": [
    "PINECONE_API_KEY=os.environ['PINECONE_API_KEY']\n",
    "PINECONE_ENV=os.environ['PINECONE_ENV']\n",
    "pinecone.init(api_key=PINECONE_API_KEY, environment=PINECONE_ENV)"
   ]
  },
  {
   "cell_type": "code",
   "execution_count": 3,
   "metadata": {},
   "outputs": [
    {
     "name": "stdout",
     "output_type": "stream",
     "text": [
      "Found Underwriting Guide!\n"
     ]
    }
   ],
   "source": [
    "index_name = 'uw-guide-index'\n",
    "if index_name not in pinecone.list_indexes():\n",
    "    print(\"Underwriting Guide index unavailable. Exiting!\")\n",
    "    sys.exit()\n",
    "else:\n",
    "    print(\"Found Underwriting Guide!\")"
   ]
  },
  {
   "cell_type": "code",
   "execution_count": 5,
   "metadata": {},
   "outputs": [],
   "source": [
    "embeddings = OpenAIEmbeddings()"
   ]
  },
  {
   "cell_type": "code",
   "execution_count": 6,
   "metadata": {},
   "outputs": [],
   "source": [
    "vector_store = Pinecone.from_existing_index(index_name=index_name, embedding=embeddings)"
   ]
  },
  {
   "cell_type": "code",
   "execution_count": 7,
   "metadata": {},
   "outputs": [
    {
     "name": "stdout",
     "output_type": "stream",
     "text": [
      "4\n",
      "page_content='When do you use the ACheck application?\\nAs soon as you receive an application request and the necessary tax identification numbers and/or social security numbers, enter the information into ACheck.\\nIf you have not yet identified all parties at this stage, you must enter all Key Principals, Principals, and Guarantors of the Borrower into ACheck as soon as you identify them.\\nIf more than 90 days pass between the initial ACheck and Commitment Date, you must repeat an ACheck.\\nHow do you view ACheck results?\\nThe ACheck application will provide either a “Continue Processing” or “Do Not Process” electronic response instantaneously.\\n“Continue Processing” Response\\nYou must receive a “Continue Processing” response in order to proceed with the application.\\nThis does not mean that the Borrower, Key Principal, Principal, Guarantor, or Principal is approved; you are still required to complete full Mortgage Loan credit underwriting.\\n“Do Not Process” Response' metadata={'source': 'docs/Part I Chapter 3 - Public - 2023-05-15.pdf'}\n",
      "page_content='© 2023 Fannie Mae. Trademarks of Fannie Mae.\\nEffective: 05/15/2023\\n35 of 48\\nGlossary\\nA\\nACheck\\nLender due diligence performed for the Borrower, Key Principal, and Principal using the ACheck application.\\nSynonyms • Applicant Experience Check\\nAdministering Agent\\nThird-party compliance monitoring company.\\nAffiliate' metadata={'source': 'docs/Part III Chapter 7 - Public - 2023-05-15.pdf'}\n",
      "page_content='Have you obtained a Form 6460 that confirms the Borrower’s good faith?\\nSection 307\\nApplicant Experience Check\\nRequirements\\nFor both initial applications, Supplemental Mortgage Loans, and any Transfer/Assumption, you must perform an ACheckTM and receive a \"Continue Processing\" response for\\nthe Borrower,\\neach Key Principal of the Borrower,\\neach Principal of the Borrower,\\n© 2023 Fannie Mae. Trademarks of Fannie Mae.\\nEffective: 05/15/2023\\n11 of 27\\neach Guarantor, and\\nany person who owns or controls an entity Key Principal.\\nOperating Procedures\\nWhere can you find ACheck?\\nYou can find the ACheck application at https://multifamily.fanniemae.com/applications-technology/acheck.\\nWhen do you use the ACheck application?\\nAs soon as you receive an application request and the necessary tax identification numbers and/or social security numbers, enter the information into ACheck.' metadata={'source': 'docs/Part I Chapter 3 - Public - 2023-05-15.pdf'}\n",
      "page_content='© 2023 Fannie Mae. Trademarks of Fannie Mae.\\nEffective: 05/15/2023\\n19 of 27\\nGlossary\\nA\\nACheck\\nLender due diligence performed for the Borrower, Key Principal, and Principal using the ACheck application.\\nSynonyms • Applicant Experience Check\\nAffiliate' metadata={'source': 'docs/Part I Chapter 3 - Public - 2023-05-15.pdf'}\n"
     ]
    }
   ],
   "source": [
    "user_question = (\n",
    "    \"What is ACheck, when is it used, what are the requirements for using ACheck?\"\n",
    ")\n",
    "resultset = vector_store.similarity_search(user_question)\n",
    "print(len(resultset))\n",
    "for x in resultset:\n",
    "    print(x)"
   ]
  },
  {
   "cell_type": "code",
   "execution_count": 9,
   "metadata": {},
   "outputs": [
    {
     "name": "stdout",
     "output_type": "stream",
     "text": [
      "ACheck is a lender due diligence performed for the Borrower, Key Principal, and Principal using the ACheck application. It is used as soon as an application request is received along with the necessary tax identification numbers and/or social security numbers. All Key Principals, Principals, and Guarantors of the Borrower must be entered into ACheck as soon as they are identified. If more than 90 days pass between the initial ACheck and Commitment Date, an ACheck must be repeated. The ACheck application will provide either a “Continue Processing” or “Do Not Process” electronic response instantaneously. A \"Continue Processing\" response must be received in order to proceed with the application. This does not mean that the Borrower, Key Principal, Principal, Guarantor, or Principal is approved; full Mortgage Loan credit underwriting is still required.\n",
      "SOURCES: docs/Part I Chapter 3 - Public - 2023-05-15.pdf, docs/Part III Chapter 7 - Public - 2023-05-15.pdf\n"
     ]
    }
   ],
   "source": [
    "llm = ChatOpenAI(temperature=0, model='gpt-4')\n",
    "chain = load_qa_with_sources_chain(llm, chain_type=\"stuff\")\n",
    "response = chain.run(input_documents=resultset, question=user_question)\n",
    "print(response)"
   ]
  }
 ],
 "metadata": {
  "kernelspec": {
   "display_name": ".venv",
   "language": "python",
   "name": "python3"
  },
  "language_info": {
   "codemirror_mode": {
    "name": "ipython",
    "version": 3
   },
   "file_extension": ".py",
   "mimetype": "text/x-python",
   "name": "python",
   "nbconvert_exporter": "python",
   "pygments_lexer": "ipython3",
   "version": "3.11.4"
  },
  "orig_nbformat": 4
 },
 "nbformat": 4,
 "nbformat_minor": 2
}
